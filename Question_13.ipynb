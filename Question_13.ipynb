{
 "cells": [
  {
   "cell_type": "markdown",
   "metadata": {},
   "source": [
    "# __Question 13__"
   ]
  },
  {
   "cell_type": "markdown",
   "metadata": {},
   "source": [
    "Develop code and create histogram for pdf for the normal distribution using \n",
    "```bash \n",
    "data :        \n",
    "m, sigma=0, 1        \n",
    "data=np.random.normal(m, sigma, 1000)  \n",
    "```"
   ]
  },
  {
   "cell_type": "code",
   "execution_count": null,
   "metadata": {},
   "outputs": [],
   "source": [
    "import matplotlib.pyplot as plt\n",
    "import numpy as np\n",
    "from scipy.stats import norm\n",
    "\n",
    "# Generate data\n",
    "m, sigma = 0, 1\n",
    "data = np.random.normal(m, sigma, 1000)\n",
    "\n",
    "# Create an array of values for x-axis based on the distribution of data\n",
    "x = np.linspace(-4, 4, 1000)  # Adjust range as needed for your distribution\n",
    "\n",
    "# Calculate the PDF values for the normal distribution\n",
    "pdf_values = norm.pdf(x, m, sigma)\n",
    "\n",
    "# Create the histogram for the PDF\n",
    "plt.figure(figsize=(8, 6))\n",
    "plt.hist(data, bins=30, density=True, color='skyblue', edgecolor='black', alpha=0.7, label='Histogram')\n",
    "\n",
    "# Plot the PDF curve\n",
    "plt.plot(x, pdf_values, 'r-', lw=2, label='PDF')\n",
    "\n",
    "# Add labels and title\n",
    "plt.xlabel('Value')\n",
    "plt.ylabel('Density')\n",
    "plt.title('Histogram and PDF of Normal Distribution')\n",
    "plt.legend()\n",
    "\n",
    "# Display the plot\n",
    "plt.show()\n"
   ]
  }
 ],
 "metadata": {
  "kernelspec": {
   "display_name": "Python 3",
   "language": "python",
   "name": "python3"
  },
  "language_info": {
   "codemirror_mode": {
    "name": "ipython",
    "version": 3
   },
   "file_extension": ".py",
   "mimetype": "text/x-python",
   "name": "python",
   "nbconvert_exporter": "python",
   "pygments_lexer": "ipython3",
   "version": "3.11.9"
  }
 },
 "nbformat": 4,
 "nbformat_minor": 2
}
