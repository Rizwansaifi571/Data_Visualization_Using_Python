{
 "cells": [
  {
   "cell_type": "markdown",
   "metadata": {},
   "source": [
    "# __Question 16__"
   ]
  },
  {
   "cell_type": "markdown",
   "metadata": {},
   "source": [
    "Create and interactive map using folium showing specific location using below data. \n",
    "Import foliumn and create a base map centered around the USA. Add markers for each city in the location dictionary. \n",
    "Also include popups with the city names for each markers. Descibe how this could be use in a real world application.     \n",
    "```bash\n",
    "Data :       \n",
    "location = {             \n",
    "    \"New York\": (40.7128, -74.0060),         \n",
    "    \"San Francisco\": (37.7749, -122.4194),              \n",
    "    \"Chicago\": (41.8781, -87.6298)              \n",
    "    }         \n",
    "```"
   ]
  }
 ],
 "metadata": {
  "language_info": {
   "name": "python"
  }
 },
 "nbformat": 4,
 "nbformat_minor": 2
}
