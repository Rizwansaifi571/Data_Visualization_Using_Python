{
 "cells": [
  {
   "cell_type": "markdown",
   "metadata": {},
   "source": [
    "# __Question 2__"
   ]
  },
  {
   "cell_type": "markdown",
   "metadata": {},
   "source": [
    "Create a line plot displaying the sales over the months using below \n",
    "data. Also add title, legend and lables.  \n",
    "```bash\n",
    "Data:  \n",
    "Months=[‘January’,’February’,’March’,’April’,’May’,’June’]  \n",
    "Sales= [150,200,180,220,170,210] \n",
    "```"
   ]
  }
 ],
 "metadata": {
  "language_info": {
   "name": "python"
  }
 },
 "nbformat": 4,
 "nbformat_minor": 2
}
