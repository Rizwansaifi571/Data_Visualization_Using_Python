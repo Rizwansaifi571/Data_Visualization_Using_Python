{
 "cells": [
  {
   "cell_type": "markdown",
   "metadata": {},
   "source": [
    "# __Question 15__"
   ]
  },
  {
   "cell_type": "markdown",
   "metadata": {},
   "source": [
    "Demonstrate dot product (matrix vector multiplication) using both methods i.e. plt.plot as well as plt.quiver for below data. \n",
    "Also add xlim, ylim, label, xlabel, ylabel, color, title, lagend, grid, marker. \n",
    "Write code and visulaize for both the method. \n",
    "```bash        \n",
    "A= np.array([[3, 5],  \n",
    "             [8, 10]])            \n",
    "x= np.array([2, 4])        \n",
    "```"
   ]
  }
 ],
 "metadata": {
  "language_info": {
   "name": "python"
  }
 },
 "nbformat": 4,
 "nbformat_minor": 2
}
