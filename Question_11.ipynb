{
 "cells": [
  {
   "cell_type": "markdown",
   "metadata": {},
   "source": [
    "# __Question 11__"
   ]
  },
  {
   "cell_type": "markdown",
   "metadata": {},
   "source": [
    "Create and write code for distribution plot showing \n",
    "the histogram and KDE (kernal density estimation) using below data. \n",
    "Overlay the mean and median of the dataset on the plot. Customize \n",
    "the plot with seaborn style and colors. Briefly descibe what the plot \n",
    "reveals about the dataset distribution.    \n",
    "```bash\n",
    "Data:        \n",
    "import numpy as np       \n",
    "data= np.random.normal(loc=50, scale=10, size=200)      \n",
    "```"
   ]
  }
 ],
 "metadata": {
  "kernelspec": {
   "display_name": "Python 3",
   "language": "python",
   "name": "python3"
  },
  "language_info": {
   "codemirror_mode": {
    "name": "ipython",
    "version": 3
   },
   "file_extension": ".py",
   "mimetype": "text/x-python",
   "name": "python",
   "nbconvert_exporter": "python",
   "pygments_lexer": "ipython3",
   "version": "3.11.9"
  }
 },
 "nbformat": 4,
 "nbformat_minor": 2
}
