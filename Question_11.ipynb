{
 "cells": [
  {
   "cell_type": "markdown",
   "metadata": {},
   "source": [
    "# __Question 11__"
   ]
  },
  {
   "cell_type": "markdown",
   "metadata": {},
   "source": [
    "Create and write code for distribution plot showing \n",
    "the histogram and KDE (kernal density estimation) using below data. \n",
    "Overlay the mean and median of the dataset on the plot. Customize \n",
    "the plot with seaborn style and colors. Briefly descibe what the plot \n",
    "reveals about the dataset distribution.    \n",
    "```bash\n",
    "Data:        \n",
    "import numpy as np       \n",
    "data= np.random.normal(loc=50, scale=10, size=200)      \n",
    "```"
   ]
  },
  {
   "cell_type": "code",
   "execution_count": null,
   "metadata": {},
   "outputs": [],
   "source": [
    "import numpy as np\n",
    "import matplotlib.pyplot as plt\n",
    "import seaborn as sns\n",
    "\n",
    "# Generate data\n",
    "np.random.seed(0)  # For reproducibility\n",
    "data = np.random.normal(loc=50, scale=10, size=200)\n",
    "\n",
    "# Set seaborn style\n",
    "sns.set(style=\"whitegrid\")\n",
    "\n",
    "# Create the plot\n",
    "plt.figure(figsize=(10, 6))\n",
    "sns.histplot(data, kde=True, color=\"skyblue\", bins=30)\n",
    "\n",
    "# Calculate and plot mean and median\n",
    "mean = np.mean(data)\n",
    "median = np.median(data)\n",
    "plt.axvline(mean, color='r', linestyle='--', linewidth=2, label=f'Mean: {mean:.2f}')\n",
    "plt.axvline(median, color='g', linestyle='-', linewidth=2, label=f'Median: {median:.2f}')\n",
    "\n",
    "# Add labels and title\n",
    "plt.xlabel('Value')\n",
    "plt.ylabel('Frequency')\n",
    "plt.title('Distribution Plot with Histogram and KDE')\n",
    "plt.legend()\n",
    "\n",
    "# Show plot\n",
    "plt.show()\n"
   ]
  }
 ],
 "metadata": {
  "kernelspec": {
   "display_name": "Python 3",
   "language": "python",
   "name": "python3"
  },
  "language_info": {
   "codemirror_mode": {
    "name": "ipython",
    "version": 3
   },
   "file_extension": ".py",
   "mimetype": "text/x-python",
   "name": "python",
   "nbconvert_exporter": "python",
   "pygments_lexer": "ipython3",
   "version": "3.11.9"
  }
 },
 "nbformat": 4,
 "nbformat_minor": 2
}
