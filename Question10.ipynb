{
 "cells": [
  {
   "cell_type": "markdown",
   "metadata": {},
   "source": [
    "# __Question 10__"
   ]
  },
  {
   "cell_type": "markdown",
   "metadata": {},
   "source": [
    "create visulaization and write code for 3D Scatter \n",
    "plotting using \n",
    "```bash\n",
    "data:         \n",
    "z= np.linspace(0, 1, 100)             \n",
    "x= np*sin(25*z)           \n",
    "y= z*np.cos(25*z) \n",
    "```"
   ]
  }
 ],
 "metadata": {
  "language_info": {
   "name": "python"
  }
 },
 "nbformat": 4,
 "nbformat_minor": 2
}
