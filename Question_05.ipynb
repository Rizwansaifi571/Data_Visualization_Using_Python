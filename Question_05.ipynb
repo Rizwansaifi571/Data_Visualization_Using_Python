{
 "cells": [
  {
   "cell_type": "markdown",
   "metadata": {},
   "source": [
    "# __Question 05__"
   ]
  },
  {
   "cell_type": "markdown",
   "metadata": {},
   "source": [
    "Construct a simple linear regression analysis and visualize it using \n",
    "Seaborn. Display the regression line and the confidence interval \n",
    "for the regression estimate.  \n",
    "```bash\n",
    "Data:  \n",
    "df= pd.DataFrame({  \n",
    "“X”: np.random.rand(100),         \n",
    "“Y”: 2* np.random.rand(100) + np.random.normal(0, 0.1, 100)  \n",
    ")} "
   ]
  }
 ],
 "metadata": {
  "kernelspec": {
   "display_name": "Python 3",
   "language": "python",
   "name": "python3"
  },
  "language_info": {
   "codemirror_mode": {
    "name": "ipython",
    "version": 3
   },
   "file_extension": ".py",
   "mimetype": "text/x-python",
   "name": "python",
   "nbconvert_exporter": "python",
   "pygments_lexer": "ipython3",
   "version": "3.11.9"
  }
 },
 "nbformat": 4,
 "nbformat_minor": 2
}
