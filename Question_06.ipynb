{
 "cells": [
  {
   "cell_type": "markdown",
   "metadata": {},
   "source": [
    "# __Question 6__"
   ]
  },
  {
   "cell_type": "markdown",
   "metadata": {},
   "source": [
    "Develop a scatter chart with below x and y. Enhance the scatter \n",
    "chart by converting it into bubble chart. Customize the opacity \n",
    "and color of the bubbles. Add appropriate labels, titles, and legend.  \n",
    "```bash \n",
    "Data:  \n",
    "X= [5, 7, 8, 7, 2, 17, 2, 9, 4, 11, 12, 9,6]  \n",
    "Y= [99, 86, 87, 88, 100, 86, 103, 87, 94, 78, 77, 85, 86]  \n",
    "Z= [210, 320, 180, 260, 300, 230, 120, 160, 300, 410, 200, 220, 190] "
   ]
  }
 ],
 "metadata": {
  "language_info": {
   "name": "python"
  }
 },
 "nbformat": 4,
 "nbformat_minor": 2
}
