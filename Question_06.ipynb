{
 "cells": [
  {
   "cell_type": "markdown",
   "metadata": {},
   "source": [
    "# __Question 6__"
   ]
  },
  {
   "cell_type": "markdown",
   "metadata": {},
   "source": [
    "Develop a scatter chart with below x and y. Enhance the scatter \n",
    "chart by converting it into bubble chart. Customize the opacity \n",
    "and color of the bubbles. Add appropriate labels, titles, and legend.  \n",
    "```bash \n",
    "Data:  \n",
    "X= [5, 7, 8, 7, 2, 17, 2, 9, 4, 11, 12, 9,6]  \n",
    "Y= [99, 86, 87, 88, 100, 86, 103, 87, 94, 78, 77, 85, 86]  \n",
    "Z= [210, 320, 180, 260, 300, 230, 120, 160, 300, 410, 200, 220, 190] "
   ]
  },
  {
   "cell_type": "code",
   "execution_count": null,
   "metadata": {},
   "outputs": [],
   "source": [
    "# Importing neccessary libraries\n",
    "import matplotlib.pyplot as plt \n",
    "\n",
    "# Data \n",
    "x = [5, 7, 8, 7, 2, 17, 2, 9, 4, 11, 12, 9, 6]\n",
    "y = [99, 86, 87, 88, 100, 86, 103, 87, 94, 78, 77, 85, 86]\n",
    "z = [210, 320, 180, 260, 300, 230, 120, 160, 300, 410, 200, 220, 190]\n",
    "\n",
    "# Creating a scatter plot \n",
    "plt.figure(figsize = (10, 6))\n",
    "scatter = plt.scatter(x, y, s=z, c=\"blue\", alpha = 0.5, edgecolor = 'w', linewidth=0.5)\n",
    "\n",
    "# Titles and lebels \n",
    "plt.title('Bubble Chart Example')\n",
    "plt.xlabel('X-axis Label')\n",
    "plt.xlabel('Y-axis Label')\n",
    "\n",
    "# Legend \n",
    "plt.legend(['Data Points'], title='Legend', loc='upper right')\n",
    "\n",
    "# Show Plot\n",
    "plt.show()\n"
   ]
  }
 ],
 "metadata": {
  "kernelspec": {
   "display_name": "Python 3",
   "language": "python",
   "name": "python3"
  },
  "language_info": {
   "codemirror_mode": {
    "name": "ipython",
    "version": 3
   },
   "file_extension": ".py",
   "mimetype": "text/x-python",
   "name": "python",
   "nbconvert_exporter": "python",
   "pygments_lexer": "ipython3",
   "version": "3.11.9"
  }
 },
 "nbformat": 4,
 "nbformat_minor": 2
}
