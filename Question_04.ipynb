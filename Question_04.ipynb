{
 "cells": [
  {
   "cell_type": "markdown",
   "metadata": {},
   "source": [
    "# __Question 4__"
   ]
  },
  {
   "cell_type": "markdown",
   "metadata": {},
   "source": [
    "Write code for a word cloud using the \n",
    "```bash \n",
    "text = “K.R. Mangalam University, the top university in Gurugram,                                                                                          is committed to advancing ambitious students educational journeys and igniting their passions.” "
   ]
  },
  {
   "cell_type": "code",
   "execution_count": null,
   "metadata": {},
   "outputs": [],
   "source": [
    "# Importing neccessary libraries\n",
    "import matplotlib.pyplot as plt \n",
    "from wordcloud import WordCloud\n",
    "\n",
    "# Data\n",
    "text = \"K.R. Mangalam University, the top university in Gurugram, is committed to advancing ambitious students educational journeys and igniting their passions.\"\n",
    "\n",
    "# Generate Word Cloud\n",
    "wordcloud = WordCloud(width = 800, height = 400,  background_color = 'white').generate(text)\n",
    "\n",
    "# Plot\n",
    "plt.figure(figsize = (10, 5))\n",
    "plt.imshow(wordcloud, interpolation = 'bilinear')\n",
    "plt.axis('off')\n",
    "plt.title(\"Word Cloud\")\n",
    "plt.show()\n",
    "\n"
   ]
  }
 ],
 "metadata": {
  "kernelspec": {
   "display_name": "Python 3",
   "language": "python",
   "name": "python3"
  },
  "language_info": {
   "codemirror_mode": {
    "name": "ipython",
    "version": 3
   },
   "file_extension": ".py",
   "mimetype": "text/x-python",
   "name": "python",
   "nbconvert_exporter": "python",
   "pygments_lexer": "ipython3",
   "version": "3.11.9"
  }
 },
 "nbformat": 4,
 "nbformat_minor": 2
}
