{
 "cells": [
  {
   "cell_type": "markdown",
   "metadata": {},
   "source": [
    "# __Question 4__"
   ]
  },
  {
   "cell_type": "markdown",
   "metadata": {},
   "source": [
    "Write code for a word cloud using the \n",
    "```bash \n",
    "text = “K.R. Mangalam University, the top university in Gurugram,                                                                                          is committed to advancing ambitious students educational journeys and igniting their passions.” "
   ]
  }
 ],
 "metadata": {
  "language_info": {
   "name": "python"
  }
 },
 "nbformat": 4,
 "nbformat_minor": 2
}
