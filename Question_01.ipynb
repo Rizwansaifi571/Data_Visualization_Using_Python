{
 "cells": [
  {
   "cell_type": "markdown",
   "metadata": {},
   "source": [
    "# __Question 1__"
   ]
  },
  {
   "cell_type": "markdown",
   "metadata": {},
   "source": [
    "Write code for waffle chart displaying the sales of the phone using \n",
    "below data. Also add title, legend and labels. \n",
    "```bash \n",
    "Data={‘phone’:[‘Xiaomi’,’Samasung’,’Apple’,’Nokia’,’Realme’],  \n",
    "‘stock’:[44,12,8,5,3] } \n",
    "```"
   ]
  }
 ],
 "metadata": {
  "language_info": {
   "name": "python"
  }
 },
 "nbformat": 4,
 "nbformat_minor": 2
}
