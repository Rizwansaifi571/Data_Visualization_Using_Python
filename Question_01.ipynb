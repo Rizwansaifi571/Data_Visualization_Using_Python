{
 "cells": [
  {
   "cell_type": "markdown",
   "metadata": {},
   "source": [
    "# __Question 1__\n",
    "Write code for waffle chart displaying the sales of the phone using \n",
    "below data. Also add title, legend and labels. \n",
    "```bash \n",
    "Data={‘phone’:[‘Xiaomi’,’Samasung’,’Apple’,’Nokia’,’Realme’],  \n",
    "‘stock’:[44,12,8,5,3] } \n",
    "```"
   ]
  },
  {
   "cell_type": "code",
   "execution_count": null,
   "metadata": {},
   "outputs": [],
   "source": [
    "# Import neccessary libraries.\n",
    "import matplotlib.pyplot as plt \n",
    "import numpy as np\n",
    "import pandas as pd \n",
    "from pywaffle import Waffle\n",
    "\n",
    "# Creation of a dataframe\n",
    "data = {'phone' : ['Xiaomi','Samsung', 'Apple', 'Nokia', 'Realme'], \n",
    "        'stock' : [44, 12, 8, 5, 3]}\n",
    "df = pd.DataFrame(data)\n",
    "\n",
    "# To plot the waffle chart\n",
    "fig = plt.figure(\n",
    "    FigureClass=Waffle,\n",
    "    rows = 10,\n",
    "    values = df['stock'], \n",
    "    icons = 'phone', icon_size = 30, \n",
    "    title={'label': 'Phone Sales Distribution', 'loc': 'center'},\n",
    "    labels = list(df.phone)\n",
    ")\n",
    "\n",
    "plt.show()"
   ]
  },
  {
   "cell_type": "markdown",
   "metadata": {},
   "source": [
    "Explanation:\n",
    "1) Import Libraries: We import the necessary libraries including matplotlib.pyplot, numpy, pandas, and pywaffle.Waffle.\n",
    "2) Data Preparation: We create a dictionary for the phone sales data and convert it into a pandas DataFrame.\n",
    "3) Plot the Waffle Chart:\n",
    "   * FigureClass=Waffle specifies the use of the Waffle chart.\n",
    "   * rows=10 defines the number of rows in the chart.\n",
    "   * values=df['stock'] takes the stock values for the chart.\n",
    "   * labels parameter creates labels for each phone with its stock value.\n",
    "   * legend adds a legend to the chart, positioned to the upper left outside the chart.\n",
    "   * title sets the chart title.\n",
    "4) Display the Plot: plt.show() renders the plot.\n",
    "    Make sure you have pywaffle installed. You can install it using pip install pywaffle."
   ]
  }
 ],
 "metadata": {
  "kernelspec": {
   "display_name": "Python 3",
   "language": "python",
   "name": "python3"
  },
  "language_info": {
   "codemirror_mode": {
    "name": "ipython",
    "version": 3
   },
   "file_extension": ".py",
   "mimetype": "text/x-python",
   "name": "python",
   "nbconvert_exporter": "python",
   "pygments_lexer": "ipython3",
   "version": "3.11.9"
  }
 },
 "nbformat": 4,
 "nbformat_minor": 2
}
