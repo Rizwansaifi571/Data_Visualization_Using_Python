{
 "cells": [
  {
   "cell_type": "markdown",
   "metadata": {},
   "source": [
    "# __Question 1__"
   ]
  },
  {
   "cell_type": "markdown",
   "metadata": {},
   "source": [
    "Write code for waffle chart displaying the sales of the phone using \n",
    "below data. Also add title, legend and labels. \n",
    "```bash \n",
    "Data={‘phone’:[‘Xiaomi’,’Samasung’,’Apple’,’Nokia’,’Realme’],  \n",
    "‘stock’:[44,12,8,5,3] } \n",
    "```"
   ]
  },
  {
   "cell_type": "code",
   "execution_count": null,
   "metadata": {},
   "outputs": [],
   "source": [
    "# Import neccessary libraries.\n",
    "import matplotlib.pyplot as plt \n",
    "import numpy as np\n",
    "import pandas as pd \n",
    "from pywaffle import Waffle\n",
    "\n",
    "\n",
    "# Creation of a dataframe\n",
    "data = {'phone' : ['Xiaomi','Samsung', 'Apple', 'Nokia', 'Realme'], \n",
    "        'stock' : [44, 12, 8, 5, 3]}\n",
    "df = pd.DataFrame(data)\n",
    "\n",
    "# To plot the waffle chart\n",
    "fig = plt.figure(\n",
    "    FigureClass=Waffle,\n",
    "    rows = 10,\n",
    "    values = df['stock'], \n",
    "    icons = 'phone', icon_size = 30, \n",
    "    labels = list(df.phone)\n",
    ")\n",
    "\n",
    "plt.show()\n"
   ]
  }
 ],
 "metadata": {
  "kernelspec": {
   "display_name": "Python 3",
   "language": "python",
   "name": "python3"
  },
  "language_info": {
   "codemirror_mode": {
    "name": "ipython",
    "version": 3
   },
   "file_extension": ".py",
   "mimetype": "text/x-python",
   "name": "python",
   "nbconvert_exporter": "python",
   "pygments_lexer": "ipython3",
   "version": "3.11.9"
  }
 },
 "nbformat": 4,
 "nbformat_minor": 2
}
